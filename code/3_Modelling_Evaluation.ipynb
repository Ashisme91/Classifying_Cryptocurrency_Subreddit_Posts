{
 "cells": [
  {
   "cell_type": "markdown",
   "id": "4554994d",
   "metadata": {},
   "source": [
    "## Import Libraries"
   ]
  },
  {
   "cell_type": "code",
   "execution_count": 1,
   "id": "fb5ab94f",
   "metadata": {},
   "outputs": [],
   "source": [
    "import numpy as np\n",
    "import pandas as pd\n",
    "import matplotlib.pyplot as plt\n",
    "import sklearn\n",
    "import seaborn as sns\n",
    "\n",
    "from sklearn.feature_extraction.text import CountVectorizer, TfidfVectorizer \n",
    "from sklearn.pipeline import Pipeline\n",
    "from sklearn.model_selection import train_test_split, GridSearchCV\n",
    "from sklearn import metrics\n",
    "from sklearn.metrics import accuracy_score\n",
    "from sklearn.metrics import classification_report, confusion_matrix\n",
    "from sklearn.utils.multiclass import unique_labels"
   ]
  },
  {
   "cell_type": "code",
   "execution_count": 2,
   "id": "3429a247",
   "metadata": {},
   "outputs": [],
   "source": [
    "from sklearn.naive_bayes import BernoulliNB\n",
    "from sklearn.naive_bayes import MultinomialNB\n",
    "from sklearn.svm import SVC"
   ]
  },
  {
   "cell_type": "markdown",
   "id": "f5fefa85",
   "metadata": {},
   "source": [
    "## Load Data"
   ]
  },
  {
   "cell_type": "code",
   "execution_count": 3,
   "id": "ab9d4a42",
   "metadata": {},
   "outputs": [],
   "source": [
    "data = pd.read_csv('../data/final_dataset.csv')"
   ]
  },
  {
   "cell_type": "code",
   "execution_count": 4,
   "id": "18499598",
   "metadata": {},
   "outputs": [
    {
     "data": {
      "text/html": [
       "<div>\n",
       "<style scoped>\n",
       "    .dataframe tbody tr th:only-of-type {\n",
       "        vertical-align: middle;\n",
       "    }\n",
       "\n",
       "    .dataframe tbody tr th {\n",
       "        vertical-align: top;\n",
       "    }\n",
       "\n",
       "    .dataframe thead th {\n",
       "        text-align: right;\n",
       "    }\n",
       "</style>\n",
       "<table border=\"1\" class=\"dataframe\">\n",
       "  <thead>\n",
       "    <tr style=\"text-align: right;\">\n",
       "      <th></th>\n",
       "      <th>title</th>\n",
       "      <th>selftext</th>\n",
       "      <th>subreddit</th>\n",
       "      <th>is_bitcoin</th>\n",
       "      <th>title_clean</th>\n",
       "      <th>selftext_clean</th>\n",
       "      <th>title_length</th>\n",
       "      <th>selftext_length</th>\n",
       "      <th>more_text_clean</th>\n",
       "      <th>final_text_clean</th>\n",
       "    </tr>\n",
       "  </thead>\n",
       "  <tbody>\n",
       "    <tr>\n",
       "      <th>0</th>\n",
       "      <td>Crypto Influencers Dorsey, Woods, and Musk Fac...</td>\n",
       "      <td>emptypost</td>\n",
       "      <td>Bitcoin</td>\n",
       "      <td>1</td>\n",
       "      <td>['crypto', 'influencers', 'dorsey', 'wood', 'm...</td>\n",
       "      <td>['emptypost']</td>\n",
       "      <td>8</td>\n",
       "      <td>1</td>\n",
       "      <td>['influencers', 'dorsey', 'wood', 'musk', 'fac...</td>\n",
       "      <td>['influencers', 'dorsey', 'wood', 'musk', 'fac...</td>\n",
       "    </tr>\n",
       "    <tr>\n",
       "      <th>1</th>\n",
       "      <td>Elon Musk’s View on Bitcoin (July 21 2021)</td>\n",
       "      <td>emptypost</td>\n",
       "      <td>Bitcoin</td>\n",
       "      <td>1</td>\n",
       "      <td>['elon', 'musk', 'view', 'bitcoin', 'july', '2...</td>\n",
       "      <td>['emptypost']</td>\n",
       "      <td>7</td>\n",
       "      <td>1</td>\n",
       "      <td>['elon', 'musk', 'view', 'bitcoin', 'july', '2...</td>\n",
       "      <td>['elon', 'musk', 'view', 'bitcoin', 'july', '21']</td>\n",
       "    </tr>\n",
       "    <tr>\n",
       "      <th>2</th>\n",
       "      <td>best crypto video ive ever watched</td>\n",
       "      <td>emptypost</td>\n",
       "      <td>Bitcoin</td>\n",
       "      <td>1</td>\n",
       "      <td>['best', 'crypto', 'video', 'ive', 'ever', 'wa...</td>\n",
       "      <td>['emptypost']</td>\n",
       "      <td>6</td>\n",
       "      <td>1</td>\n",
       "      <td>['best', 'video', 'ive', 'ever', 'watched', 'e...</td>\n",
       "      <td>['best', 'video', 'ive', 'ever', 'watched']</td>\n",
       "    </tr>\n",
       "    <tr>\n",
       "      <th>3</th>\n",
       "      <td>what moves crypto market apart from the specul...</td>\n",
       "      <td>I would like to know if there is anything tha...</td>\n",
       "      <td>Bitcoin</td>\n",
       "      <td>1</td>\n",
       "      <td>['move', 'crypto', 'market', 'apart', 'specula...</td>\n",
       "      <td>['', 'would', 'like', 'know', 'anything', 'mov...</td>\n",
       "      <td>5</td>\n",
       "      <td>14</td>\n",
       "      <td>['move', 'market', 'apart', 'speculator', '', ...</td>\n",
       "      <td>['move', 'market', 'apart', 'speculator', '', ...</td>\n",
       "    </tr>\n",
       "    <tr>\n",
       "      <th>4</th>\n",
       "      <td>Help starting crypto business</td>\n",
       "      <td>Hi guys.\\n\\nI'm interested in starting a crypt...</td>\n",
       "      <td>Bitcoin</td>\n",
       "      <td>1</td>\n",
       "      <td>['help', 'starting', 'crypto', 'business']</td>\n",
       "      <td>['hi', 'guy', 'im', 'interested', 'starting', ...</td>\n",
       "      <td>4</td>\n",
       "      <td>48</td>\n",
       "      <td>['help', 'starting', 'business', 'hi', 'guy', ...</td>\n",
       "      <td>['help', 'starting', 'business', 'hi', 'guy', ...</td>\n",
       "    </tr>\n",
       "  </tbody>\n",
       "</table>\n",
       "</div>"
      ],
      "text/plain": [
       "                                               title  \\\n",
       "0  Crypto Influencers Dorsey, Woods, and Musk Fac...   \n",
       "1         Elon Musk’s View on Bitcoin (July 21 2021)   \n",
       "2                 best crypto video ive ever watched   \n",
       "3  what moves crypto market apart from the specul...   \n",
       "4                      Help starting crypto business   \n",
       "\n",
       "                                            selftext subreddit  is_bitcoin  \\\n",
       "0                                          emptypost   Bitcoin           1   \n",
       "1                                          emptypost   Bitcoin           1   \n",
       "2                                          emptypost   Bitcoin           1   \n",
       "3   I would like to know if there is anything tha...   Bitcoin           1   \n",
       "4  Hi guys.\\n\\nI'm interested in starting a crypt...   Bitcoin           1   \n",
       "\n",
       "                                         title_clean  \\\n",
       "0  ['crypto', 'influencers', 'dorsey', 'wood', 'm...   \n",
       "1  ['elon', 'musk', 'view', 'bitcoin', 'july', '2...   \n",
       "2  ['best', 'crypto', 'video', 'ive', 'ever', 'wa...   \n",
       "3  ['move', 'crypto', 'market', 'apart', 'specula...   \n",
       "4         ['help', 'starting', 'crypto', 'business']   \n",
       "\n",
       "                                      selftext_clean  title_length  \\\n",
       "0                                      ['emptypost']             8   \n",
       "1                                      ['emptypost']             7   \n",
       "2                                      ['emptypost']             6   \n",
       "3  ['', 'would', 'like', 'know', 'anything', 'mov...             5   \n",
       "4  ['hi', 'guy', 'im', 'interested', 'starting', ...             4   \n",
       "\n",
       "   selftext_length                                    more_text_clean  \\\n",
       "0                1  ['influencers', 'dorsey', 'wood', 'musk', 'fac...   \n",
       "1                1  ['elon', 'musk', 'view', 'bitcoin', 'july', '2...   \n",
       "2                1  ['best', 'video', 'ive', 'ever', 'watched', 'e...   \n",
       "3               14  ['move', 'market', 'apart', 'speculator', '', ...   \n",
       "4               48  ['help', 'starting', 'business', 'hi', 'guy', ...   \n",
       "\n",
       "                                    final_text_clean  \n",
       "0  ['influencers', 'dorsey', 'wood', 'musk', 'fac...  \n",
       "1  ['elon', 'musk', 'view', 'bitcoin', 'july', '21']  \n",
       "2        ['best', 'video', 'ive', 'ever', 'watched']  \n",
       "3  ['move', 'market', 'apart', 'speculator', '', ...  \n",
       "4  ['help', 'starting', 'business', 'hi', 'guy', ...  "
      ]
     },
     "execution_count": 4,
     "metadata": {},
     "output_type": "execute_result"
    }
   ],
   "source": [
    "# Display first 5 rows\n",
    "data.head()"
   ]
  },
  {
   "cell_type": "code",
   "execution_count": 5,
   "id": "2175876d",
   "metadata": {},
   "outputs": [
    {
     "name": "stdout",
     "output_type": "stream",
     "text": [
      "<class 'pandas.core.frame.DataFrame'>\n",
      "RangeIndex: 2786 entries, 0 to 2785\n",
      "Data columns (total 10 columns):\n",
      " #   Column            Non-Null Count  Dtype \n",
      "---  ------            --------------  ----- \n",
      " 0   title             2786 non-null   object\n",
      " 1   selftext          2786 non-null   object\n",
      " 2   subreddit         2786 non-null   object\n",
      " 3   is_bitcoin        2786 non-null   int64 \n",
      " 4   title_clean       2786 non-null   object\n",
      " 5   selftext_clean    2786 non-null   object\n",
      " 6   title_length      2786 non-null   int64 \n",
      " 7   selftext_length   2786 non-null   int64 \n",
      " 8   more_text_clean   2786 non-null   object\n",
      " 9   final_text_clean  2786 non-null   object\n",
      "dtypes: int64(3), object(7)\n",
      "memory usage: 217.8+ KB\n"
     ]
    }
   ],
   "source": [
    "# Check for missing value and data type\n",
    "data.info()"
   ]
  },
  {
   "cell_type": "markdown",
   "id": "812237e5",
   "metadata": {},
   "source": [
    "## 3. Modelling and Evaluation\n",
    "\n",
    "In this section, we will first establish the baseline model using the Zero Rate (ZeroR) classifier. Next, we will train, test, and optimize (through hyperparameters tuning) two models, namely Naive Bayes Multinomial model and Linear Support Vector Machine. We will then evaluate the models against the baseline model and compare the two models before making a recommendation."
   ]
  },
  {
   "cell_type": "markdown",
   "id": "8b225bd7",
   "metadata": {},
   "source": [
    "### 3.1 Establish baseline model"
   ]
  },
  {
   "cell_type": "markdown",
   "id": "728071d3",
   "metadata": {},
   "source": [
    "We will be using the Zero Rate (ZeroR) classifier as the baseline model. ZeroR classifier always classifies predictions to the most frequent class. To contextualize to our project, the most frequent class in our dataset is the Bitcoin subreddit (i.e a value of '1' in the is_bitcoin column). In a binary classification problem, ZeroR is more often than not correct by just going with the odds. For our models to demonstrate that they have skill on a problem, they must achieve an accuracy better than this ZeroR value."
   ]
  },
  {
   "cell_type": "code",
   "execution_count": 6,
   "id": "9f22fe74",
   "metadata": {},
   "outputs": [
    {
     "name": "stdout",
     "output_type": "stream",
     "text": [
      "Our model should beat the baseline accuracy score of 65.0%.\n"
     ]
    }
   ],
   "source": [
    "# Establish baseline score\n",
    "zeroR_score = round(data['is_bitcoin'].mean(),4) * 100\n",
    "print(f'Our model should beat the baseline accuracy score of {zeroR_score}%.')"
   ]
  },
  {
   "cell_type": "code",
   "execution_count": 7,
   "id": "b9cda21a",
   "metadata": {},
   "outputs": [],
   "source": [
    "X = data['final_text_clean']\n",
    "y = data['is_bitcoin']"
   ]
  },
  {
   "cell_type": "code",
   "execution_count": 44,
   "id": "9c6a4327",
   "metadata": {},
   "outputs": [
    {
     "data": {
      "text/plain": [
       "0       1\n",
       "1       1\n",
       "2       1\n",
       "3       1\n",
       "4       1\n",
       "       ..\n",
       "2781    0\n",
       "2782    0\n",
       "2783    0\n",
       "2784    0\n",
       "2785    0\n",
       "Name: is_bitcoin, Length: 2786, dtype: int64"
      ]
     },
     "execution_count": 44,
     "metadata": {},
     "output_type": "execute_result"
    }
   ],
   "source": []
  },
  {
   "cell_type": "code",
   "execution_count": 8,
   "id": "39f4fd64",
   "metadata": {},
   "outputs": [],
   "source": [
    "# Train/test split\n",
    "X_train, X_test, y_train, y_test = train_test_split(X,\n",
    "                                                    y,\n",
    "                                                    test_size=0.35,\n",
    "                                                    random_state=42,\n",
    "                                                    stratify=y)"
   ]
  },
  {
   "cell_type": "markdown",
   "id": "c31d8e95",
   "metadata": {},
   "source": [
    "### 3.2 Naive Bayes Multinomial Model\n",
    "\n",
    "MultinomialNB is an appropriate choice for Naive Bayes modelling. The use of CountVectorizer allows us to transform X into columns containing integer value."
   ]
  },
  {
   "cell_type": "code",
   "execution_count": 10,
   "id": "26b95b68",
   "metadata": {},
   "outputs": [],
   "source": [
    "# Let's set a pipeline up with two stages:\n",
    "# 1. CountVectorizer (transformer)\n",
    "# 2. Multinomial Naive Bayes (estimator)\n",
    "\n",
    "cvec_multinb_pipe = Pipeline([\n",
    "    ('cvec', CountVectorizer()),\n",
    "    ('nb', MultinomialNB())\n",
    "])"
   ]
  },
  {
   "cell_type": "code",
   "execution_count": 11,
   "id": "95ff64ec",
   "metadata": {},
   "outputs": [],
   "source": [
    "# Search over the following values of hyperparameters:\n",
    "# Maximum number of features fit: 2000, 3000, 4000, 5000\n",
    "# Minimum number of documents needed to include token: 2, 3\n",
    "# Maximum number of documents needed to include token: 90%, 95%\n",
    "# Check through ngram_range\n",
    "\n",
    "cvec_multinb_pipe_params = {\n",
    "                            'cvec__max_features': [1_000, 2_000, 3_000, 4_000, 5_000],\n",
    "                            'cvec__min_df': [2, 3],\n",
    "                            'cvec__max_df': [.9, .95],\n",
    "                            'cvec__ngram_range': [(1,1), (1,2), (2,2),(2,3),(3,3)]\n",
    "}"
   ]
  },
  {
   "cell_type": "code",
   "execution_count": 12,
   "id": "a9f4cb71",
   "metadata": {},
   "outputs": [],
   "source": [
    "# Instantiate GridSearchCV.\n",
    "\n",
    "cvec_multinb_gs = GridSearchCV(cvec_multinb_pipe, \n",
    "                  param_grid=cvec_multinb_pipe_params, \n",
    "                  cv=5) # 5-fold cross-validation.\n"
   ]
  },
  {
   "cell_type": "code",
   "execution_count": 13,
   "id": "fcaeae60",
   "metadata": {},
   "outputs": [
    {
     "data": {
      "text/plain": [
       "GridSearchCV(cv=5,\n",
       "             estimator=Pipeline(steps=[('cvec', CountVectorizer()),\n",
       "                                       ('nb', MultinomialNB())]),\n",
       "             param_grid={'cvec__max_df': [0.9, 0.95],\n",
       "                         'cvec__max_features': [1000, 2000, 3000, 4000, 5000],\n",
       "                         'cvec__min_df': [2, 3],\n",
       "                         'cvec__ngram_range': [(1, 1), (1, 2), (2, 2), (2, 3),\n",
       "                                               (3, 3)]})"
      ]
     },
     "execution_count": 13,
     "metadata": {},
     "output_type": "execute_result"
    }
   ],
   "source": [
    "# Fit GridSearch to training data.\n",
    "cvec_multinb_gs.fit(X_train, y_train)"
   ]
  },
  {
   "cell_type": "code",
   "execution_count": 14,
   "id": "ffcbc5e9",
   "metadata": {},
   "outputs": [
    {
     "data": {
      "text/plain": [
       "{'cvec__max_df': 0.9,\n",
       " 'cvec__max_features': 4000,\n",
       " 'cvec__min_df': 2,\n",
       " 'cvec__ngram_range': (1, 1)}"
      ]
     },
     "execution_count": 14,
     "metadata": {},
     "output_type": "execute_result"
    }
   ],
   "source": [
    "# Determine optimal set of hyperparameters\n",
    "cvec_multinb_gs.best_params_"
   ]
  },
  {
   "cell_type": "code",
   "execution_count": 15,
   "id": "2dbd8650",
   "metadata": {},
   "outputs": [],
   "source": [
    "cvec_multinb_gs_optimal = cvec_multinb_gs.best_estimator_"
   ]
  },
  {
   "cell_type": "code",
   "execution_count": 16,
   "id": "8c9498d9",
   "metadata": {},
   "outputs": [
    {
     "data": {
      "text/plain": [
       "0.9104972375690608"
      ]
     },
     "execution_count": 16,
     "metadata": {},
     "output_type": "execute_result"
    }
   ],
   "source": [
    "# Score model on training set.\n",
    "cvec_multinb_gs_optimal.score(X_train, y_train)"
   ]
  },
  {
   "cell_type": "code",
   "execution_count": 17,
   "id": "234ac990",
   "metadata": {},
   "outputs": [
    {
     "data": {
      "text/plain": [
       "0.8586065573770492"
      ]
     },
     "execution_count": 17,
     "metadata": {},
     "output_type": "execute_result"
    }
   ],
   "source": [
    "# Score model on testing set.\n",
    "cvec_multinb_gs_optimal.score(X_test, y_test)"
   ]
  },
  {
   "cell_type": "code",
   "execution_count": 18,
   "id": "4f098b0b",
   "metadata": {},
   "outputs": [],
   "source": [
    "# Generate our predictions!\n",
    "multinb_predictions = cvec_multinb_gs_optimal.predict(X_test)"
   ]
  },
  {
   "cell_type": "code",
   "execution_count": 19,
   "id": "eccb0c39",
   "metadata": {},
   "outputs": [
    {
     "data": {
      "text/plain": [
       "(976,)"
      ]
     },
     "execution_count": 19,
     "metadata": {},
     "output_type": "execute_result"
    }
   ],
   "source": [
    "multinb_predictions.shape"
   ]
  },
  {
   "cell_type": "code",
   "execution_count": 20,
   "id": "a0c649a7",
   "metadata": {},
   "outputs": [
    {
     "data": {
      "text/plain": [
       "Pipeline(steps=[('cvec',\n",
       "                 CountVectorizer(max_df=0.9, max_features=4000, min_df=2)),\n",
       "                ('nb', MultinomialNB())])"
      ]
     },
     "execution_count": 20,
     "metadata": {},
     "output_type": "execute_result"
    }
   ],
   "source": [
    "cvec_multinb_gs_optimal"
   ]
  },
  {
   "cell_type": "code",
   "execution_count": 21,
   "id": "e4c633e5",
   "metadata": {},
   "outputs": [],
   "source": [
    "# define function to create confusion matrix and classification report\n",
    "def make_cm(model, X, y, names):\n",
    "    \n",
    "    # get predictions from the model and plot the against the actual values in a confusion matrix\n",
    "    y_pred = model.predict(X)\n",
    "    cm = confusion_matrix(y, y_pred)\n",
    "    \n",
    "    # convert confusion matrix to dataframe\n",
    "    cols = ['pred_' + c for c in names]\n",
    "    dfcm = pd.DataFrame(cm, columns=cols, index=names)\n",
    "    \n",
    "    # print confusion matrix and classification report\n",
    "    print(dfcm)\n",
    "    print(\"--------------------------------------------------------------------------------\")\n",
    "    print(classification_report(y, y_pred))\n",
    "    \n",
    "    # credit adi brohstein for the basis for this code"
   ]
  },
  {
   "cell_type": "code",
   "execution_count": 22,
   "id": "2804c699",
   "metadata": {},
   "outputs": [
    {
     "name": "stdout",
     "output_type": "stream",
     "text": [
      "                   pred_actual_r/Ethereum  pred_actual_r/Bitcoin\n",
      "actual_r/Ethereum                     239                    103\n",
      "actual_r/Bitcoin                       35                    599\n",
      "--------------------------------------------------------------------------------\n",
      "              precision    recall  f1-score   support\n",
      "\n",
      "           0       0.87      0.70      0.78       342\n",
      "           1       0.85      0.94      0.90       634\n",
      "\n",
      "    accuracy                           0.86       976\n",
      "   macro avg       0.86      0.82      0.84       976\n",
      "weighted avg       0.86      0.86      0.85       976\n",
      "\n"
     ]
    }
   ],
   "source": [
    "# run confusion matrix function\n",
    "make_cm(cvec_multinb_gs_optimal, X_test, y_test, ['actual_r/Ethereum','actual_r/Bitcoin'])"
   ]
  },
  {
   "cell_type": "code",
   "execution_count": 23,
   "id": "e0480d34",
   "metadata": {},
   "outputs": [
    {
     "data": {
      "text/plain": [
       "array([[239, 103],\n",
       "       [ 35, 599]], dtype=int64)"
      ]
     },
     "execution_count": 23,
     "metadata": {},
     "output_type": "execute_result"
    }
   ],
   "source": [
    "# Generate a confusion matrix.\n",
    "confusion_matrix(y_test, multinb_predictions)"
   ]
  },
  {
   "cell_type": "code",
   "execution_count": 24,
   "id": "27f8f335",
   "metadata": {},
   "outputs": [],
   "source": [
    "# Save confusion matrix values\n",
    "tn, fp, fn, tp = confusion_matrix(y_test, multinb_predictions).ravel()"
   ]
  },
  {
   "cell_type": "code",
   "execution_count": 25,
   "id": "65c2bf3e",
   "metadata": {},
   "outputs": [
    {
     "name": "stdout",
     "output_type": "stream",
     "text": [
      "True Negatives: 239\n",
      "False Positives: 103\n",
      "False Negatives: 35\n",
      "True Positives: 599\n"
     ]
    }
   ],
   "source": [
    "print(\"True Negatives: %s\" % tn)\n",
    "print(\"False Positives: %s\" % fp)\n",
    "print(\"False Negatives: %s\" % fn)\n",
    "print(\"True Positives: %s\" % tp)"
   ]
  },
  {
   "cell_type": "markdown",
   "id": "0ee0d3d1",
   "metadata": {},
   "source": [
    "### 3.3 Linear Support Vector Machine\n",
    "\n",
    "With a relatively high features to row ratio and a binary target variable, we used a Linear Support Vector Machine in attempt to generate exceptional model performance (i.e. high accuracy)."
   ]
  },
  {
   "cell_type": "code",
   "execution_count": 26,
   "id": "00c4eeb9",
   "metadata": {},
   "outputs": [],
   "source": [
    "# Train/test split again\n",
    "X_train, X_test, y_train, y_test = train_test_split(X,\n",
    "                                                    y,\n",
    "                                                    test_size=0.35,\n",
    "                                                    random_state=42,\n",
    "                                                    stratify=y)"
   ]
  },
  {
   "cell_type": "code",
   "execution_count": 27,
   "id": "523c2bef",
   "metadata": {},
   "outputs": [],
   "source": [
    "# instantiate TF-IDF and SVC pipeline\n",
    "svm_pipe = Pipeline([\n",
    "    ('tfidf', TfidfVectorizer()),\n",
    "    ('svc', SVC(kernel='linear', gamma='auto'))\n",
    "])"
   ]
  },
  {
   "cell_type": "code",
   "execution_count": 28,
   "id": "39ef659a",
   "metadata": {},
   "outputs": [],
   "source": [
    "# define parameter grid for SVC model\n",
    "svm_params = {\n",
    "    'tfidf__max_features': [1_000, 2_000, 3_000, 4_000,5_000],\n",
    "    'tfidf__ngram_range': [(1,1), (1,2)],\n",
    "    'tfidf__stop_words': [None, 'english'],\n",
    "    'svc__C': [0.1, 1, 10, 100]\n",
    "}"
   ]
  },
  {
   "cell_type": "code",
   "execution_count": 29,
   "id": "09bd19f2",
   "metadata": {},
   "outputs": [
    {
     "data": {
      "text/plain": [
       "{'svc__C': 1,\n",
       " 'tfidf__max_features': 3000,\n",
       " 'tfidf__ngram_range': (1, 1),\n",
       " 'tfidf__stop_words': None}"
      ]
     },
     "execution_count": 29,
     "metadata": {},
     "output_type": "execute_result"
    }
   ],
   "source": [
    "# griseach through hyperparameters for SVC model\n",
    "svm_gs = GridSearchCV(svm_pipe, param_grid=svm_params, cv=5, n_jobs=-1)\n",
    "svm_gs.fit(X_train, y_train)\n",
    "\n",
    "# display best hyperparameters\n",
    "svm_gs.best_params_"
   ]
  },
  {
   "cell_type": "code",
   "execution_count": 30,
   "id": "5e3e58f3",
   "metadata": {},
   "outputs": [],
   "source": [
    "svm_gs_optimal = svm_gs.best_estimator_"
   ]
  },
  {
   "cell_type": "code",
   "execution_count": 31,
   "id": "b3e83515",
   "metadata": {},
   "outputs": [
    {
     "data": {
      "text/plain": [
       "0.961878453038674"
      ]
     },
     "execution_count": 31,
     "metadata": {},
     "output_type": "execute_result"
    }
   ],
   "source": [
    "# Score model on training data\n",
    "svm_gs_optimal.score(X_train, y_train)"
   ]
  },
  {
   "cell_type": "code",
   "execution_count": 32,
   "id": "2f4077c4",
   "metadata": {},
   "outputs": [
    {
     "data": {
      "text/plain": [
       "0.8586065573770492"
      ]
     },
     "execution_count": 32,
     "metadata": {},
     "output_type": "execute_result"
    }
   ],
   "source": [
    "# Score model on testing data\n",
    "svm_gs_optimal.score(X_test, y_test)"
   ]
  },
  {
   "cell_type": "code",
   "execution_count": 33,
   "id": "e2ea00db",
   "metadata": {},
   "outputs": [
    {
     "name": "stdout",
     "output_type": "stream",
     "text": [
      "            pred_r/Ethereum  pred_r/Bitcoin\n",
      "r/Ethereum              246              96\n",
      "r/Bitcoin                42             592\n",
      "--------------------------------------------------------------------------------\n",
      "              precision    recall  f1-score   support\n",
      "\n",
      "           0       0.85      0.72      0.78       342\n",
      "           1       0.86      0.93      0.90       634\n",
      "\n",
      "    accuracy                           0.86       976\n",
      "   macro avg       0.86      0.83      0.84       976\n",
      "weighted avg       0.86      0.86      0.86       976\n",
      "\n"
     ]
    }
   ],
   "source": [
    "# run confusion matrix function\n",
    "make_cm(svm_gs_optimal, X_test, y_test, ['r/Ethereum','r/Bitcoin',]) "
   ]
  },
  {
   "cell_type": "markdown",
   "id": "e7e8e039",
   "metadata": {},
   "source": [
    "### 3.4 Model evaluation and recommendation\n",
    "\n",
    "On testing, both Naive Bayes (NB) Multinomial model and Linear Support Vector Machine (SVM) coincidentally scored an accuracy of 85.9% and outpeformed the baseline model's accuracy of 65.0%. While both NB Multinomial model and Linear SVM are overfitted (since training accuracy > testing accuracy), the extent of overfitting is lower in NB Multinomial model. This is evident by the smaller gap between training accuracy and testing accuracy in NB Multinomial model. We expect NB Multinomial model would be more stable than Linear SVM when exposed to unseen text data. We believe that the greater stability in NB Multinomial model would outweigh the effects of marignal lower accuracy when compared to Linear SVM. To top it off, NB Multinomial model allows us to study the significance of predictors in our text features but Linear SVM does not. Therefore, we recommend that NB Multinomial model would be suitable than Linear SVM to be used as the classifier in the development of the minimum viable product for the chatbot."
   ]
  },
  {
   "cell_type": "markdown",
   "id": "21f64b70",
   "metadata": {},
   "source": [
    "### 3.5 Visualizations and Analysis of Optimal Naive Bayes Model with Count Vectorizer"
   ]
  },
  {
   "cell_type": "code",
   "execution_count": 34,
   "id": "57a97735",
   "metadata": {},
   "outputs": [
    {
     "data": {
      "text/plain": [
       "MultinomialNB()"
      ]
     },
     "execution_count": 34,
     "metadata": {},
     "output_type": "execute_result"
    }
   ],
   "source": [
    "# run the Count Vectorized model with the optimal hyperparameters\n",
    "cvec = CountVectorizer(ngram_range=(1, 1),  max_features=3000, max_df=0.9, min_df =2)\n",
    "train_raw = cvec.fit_transform(X_train)\n",
    "train_df = pd.DataFrame(train_raw.toarray(), columns=cvec.get_feature_names())\n",
    "\n",
    "test_raw = cvec.transform(X_test)\n",
    "test_df = pd.DataFrame(test_raw.toarray(), columns=cvec.get_feature_names())\n",
    "\n",
    "train_df.fillna(0, inplace=True)\n",
    "test_df.fillna(0, inplace=True)\n",
    "\n",
    "# fit the multinomail NB model\n",
    "cvec_nb = MultinomialNB()\n",
    "cvec_nb.fit(train_df, y_train)"
   ]
  },
  {
   "cell_type": "code",
   "execution_count": 35,
   "id": "080befe7",
   "metadata": {},
   "outputs": [
    {
     "data": {
      "text/plain": [
       "MultinomialNB()"
      ]
     },
     "execution_count": 35,
     "metadata": {},
     "output_type": "execute_result"
    }
   ],
   "source": [
    "# fit the multinomail NB model\n",
    "cvec_nb = MultinomialNB()\n",
    "cvec_nb.fit(train_df, y_train)"
   ]
  },
  {
   "cell_type": "code",
   "execution_count": 36,
   "id": "fd633507",
   "metadata": {},
   "outputs": [
    {
     "data": {
      "text/plain": [
       "0.8514344262295082"
      ]
     },
     "execution_count": 36,
     "metadata": {},
     "output_type": "execute_result"
    }
   ],
   "source": [
    "# score \n",
    "cvec_nb.score(test_raw, y_test)"
   ]
  },
  {
   "cell_type": "code",
   "execution_count": 37,
   "id": "6174432f",
   "metadata": {},
   "outputs": [],
   "source": [
    "# define fucntion to determine the most useful features for  Multinomial NB classifiers\n",
    "def nb_features(vectorizer, classifier, n=20, class_labels=[0, 1]):\n",
    "    \n",
    "    # get list of feature names from the vectorizor\n",
    "    feature_names = vectorizer.get_feature_names()\n",
    "    \n",
    "    # two lists of tuples that contain the log probability from the classifier\n",
    "    # tie it to the corresponding feature names, sort the list by highest log probability\n",
    "    top_class0 = sorted(zip(classifier.feature_log_prob_[0], feature_names), reverse=True)[:n]\n",
    "    top_class1 = sorted(zip(classifier.feature_log_prob_[1], feature_names), reverse=True)[:n]\n",
    "    # credit to Sai Sandeep on StackOverflow for giving the basis for the zip method of tying names and counts together\n",
    "    \n",
    "    print(f\"Important words in classifying posts for {class_labels[0]}\")\n",
    "    \n",
    "    # print label, the exponential of the log probability,  and the feature names\n",
    "    for prob, feat in top_class0:\n",
    "        print(class_labels[0], np.exp(prob), feat)\n",
    "\n",
    "    print(\" \")\n",
    "    print(\" \")\n",
    "    print(f\"Important words in classifying posts for {class_labels[1]}\")\n",
    "\n",
    "    for prob, feat in top_class1:\n",
    "        print(class_labels[1], np.exp(prob), feat)"
   ]
  },
  {
   "cell_type": "code",
   "execution_count": 38,
   "id": "5bf79672",
   "metadata": {},
   "outputs": [],
   "source": [
    "# create dataframes for plotting NB results\n",
    "# note that exponential is taken from the log probability to get the actual probability for each feature\n",
    "nb_feat_importance_btc = pd.DataFrame(np.exp(cvec_nb.feature_log_prob_[0]), train_df.columns, columns=['probability'])\n",
    "nb_feat_importance_eth = pd.DataFrame(np.exp(cvec_nb.feature_log_prob_[1]), train_df.columns, columns=['probability'])"
   ]
  },
  {
   "cell_type": "code",
   "execution_count": 39,
   "id": "d1531d55",
   "metadata": {},
   "outputs": [
    {
     "data": {
      "image/png": "[encoded data removed]",
      "text/plain": [
       "<Figure size 1440x720 with 1 Axes>"
      ]
     },
     "metadata": {
      "needs_background": "light"
     },
     "output_type": "display_data"
    }
   ],
   "source": [
    "# plot the results from the NB dataframes\n",
    "plt.figure(figsize=(20,10))\n",
    "eth = nb_feat_importance_btc.sort_values('probability', ascending=False).head(10)\n",
    "btc = nb_feat_importance_eth.sort_values('probability', ascending=False).head(10)\n",
    "\n",
    "plt.barh(eth.index, eth['probability'], color='darkblue')\n",
    "plt.barh(btc.index, btc['probability'], color='darkorange')\n",
    "plt.yticks(size=16)\n",
    "\n",
    "plt.title('Top 10 Features: r/Bitcoin vs. r/Ethereum', fontsize=30)\n",
    "plt.xlabel('Probability', fontsize=20)\n",
    "plt.ylabel('Feature', fontsize=20);"
   ]
  },
  {
   "cell_type": "markdown",
   "id": "ab3408b1",
   "metadata": {},
   "source": [
    "Looking at the top 10 features in r/Bitcoin (represented by orange bars), it is no wonder that 'bitcoin and 'btc' came up as the top features. Based on our domain knowledge, the rest of the top features does not seem to have any association or linked to Bitcoin. \n",
    "\n",
    "Looking at the top 10 features in r/Ethereum (represented by blue bars), it is no wonder that 'ethereum and 'eth' came  as the top features. Another word that is specific to Ethereum is 'defi' which stands for decentralized finance. It refers to a collective term for financial products and services that are accessing to anyone who can use Ethereum."
   ]
  },
  {
   "cell_type": "code",
   "execution_count": 40,
   "id": "c66f2c5d",
   "metadata": {},
   "outputs": [
    {
     "name": "stdout",
     "output_type": "stream",
     "text": [
      "Important words in classifying posts for r/Ethereum\n",
      "r/Ethereum 0.02647183396865735 ethereum\n",
      "r/Ethereum 0.013235916984328687 eth\n",
      "r/Ethereum 0.004870817450232955 bitcoin\n",
      "r/Ethereum 0.003917831427361287 new\n",
      "r/Ethereum 0.003600169419737402 london\n",
      "r/Ethereum 0.003600169419737402 defi\n",
      "r/Ethereum 0.003282507412113513 first\n",
      "r/Ethereum 0.0030707327403642556 use\n",
      "r/Ethereum 0.002647183396865737 transaction\n",
      "r/Ethereum 0.002647183396865737 price\n",
      "r/Ethereum 0.002647183396865737 help\n",
      "r/Ethereum 0.002541296060991106 go\n",
      "r/Ethereum 0.002541296060991106 cryptocurrency\n",
      "r/Ethereum 0.002541296060991106 blockchain\n",
      "r/Ethereum 0.0024354087251164773 token\n",
      "r/Ethereum 0.0024354087251164773 one\n",
      "r/Ethereum 0.0024354087251164773 july\n",
      "r/Ethereum 0.002329521389241848 upgrade\n",
      "r/Ethereum 0.002329521389241848 exchange\n",
      "r/Ethereum 0.002329521389241848 amp\n",
      " \n",
      " \n",
      "Important words in classifying posts for r/Bitcoin\n",
      "r/Bitcoin 0.03631117332800044 bitcoin\n",
      "r/Bitcoin 0.009456332314373046 btc\n",
      "r/Bitcoin 0.005599520041139325 price\n",
      "r/Bitcoin 0.005342399222923747 money\n",
      "r/Bitcoin 0.004885295546096047 one\n",
      "r/Bitcoin 0.004171071051052764 year\n",
      "r/Bitcoin 0.004171071051052764 buy\n",
      "r/Bitcoin 0.004028226152044108 market\n",
      "r/Bitcoin 0.004028226152044108 make\n",
      "r/Bitcoin 0.003942519212638915 want\n",
      "r/Bitcoin 0.003713967374225063 need\n",
      "r/Bitcoin 0.0033711396166042898 mining\n",
      "r/Bitcoin 0.0033140016570008257 im\n",
      "r/Bitcoin 0.0033140016570008257 coin\n",
      "r/Bitcoin 0.0031997257377939 go\n",
      "r/Bitcoin 0.0031997257377939 back\n",
      "r/Bitcoin 0.0031425877781904397 new\n",
      "r/Bitcoin 0.0029426049195783203 use\n",
      "r/Bitcoin 0.0029426049195783203 dont\n",
      "r/Bitcoin 0.0029140359397765874 way\n"
     ]
    }
   ],
   "source": [
    "nb_features(cvec, cvec_nb, class_labels=['r/Ethereum', 'r/Bitcoin'])"
   ]
  },
  {
   "cell_type": "markdown",
   "id": "c9b27d1c",
   "metadata": {},
   "source": [
    "#### Create plot confusion matrix function"
   ]
  },
  {
   "cell_type": "code",
   "execution_count": 41,
   "id": "2399e7e7",
   "metadata": {},
   "outputs": [],
   "source": [
    "# function to visualize confusion matrix\n",
    "# Source code from SkLearn documentation\n",
    "# https://scikit-learn.org/stable/auto_examples/model_selection/plot_confusion_matrix.html\n",
    "\n",
    "def plot_confusion_matrix(y_true, y_pred, classes,\n",
    "                          normalize=False,\n",
    "                          title=None,\n",
    "                          cmap=plt.cm.Blues):\n",
    "#     This function prints and plots the confusion matrix.\n",
    "#     Normalization can be applied by setting `normalize=True`.\n",
    "\n",
    "    if not title:\n",
    "        if normalize:\n",
    "            title = 'Normalized confusion matrix'\n",
    "        else:\n",
    "            title = 'Confusion matrix, without normalization'\n",
    "\n",
    "    # Compute confusion matrix\n",
    "    cm = metrics.confusion_matrix(y_true, y_pred)\n",
    "    # Only use the labels that appear in the data\n",
    "    classes = classes[unique_labels(y_true, y_pred)]\n",
    "    if normalize:\n",
    "        cm = cm.astype('float') / cm.sum(axis=1)[:, np.newaxis]\n",
    "        print(\"Normalized confusion matrix\")\n",
    "    else:\n",
    "        print('Confusion matrix, without normalization')\n",
    "\n",
    "    print(cm)\n",
    "\n",
    "    fig, ax = plt.subplots()\n",
    "    im = ax.imshow(cm, interpolation='nearest', cmap=cmap)\n",
    "    ax.figure.colorbar(im, ax=ax)\n",
    "    # We want to show all ticks...\n",
    "    ax.set(xticks=np.arange(cm.shape[1]),\n",
    "           yticks=np.arange(cm.shape[0]),\n",
    "           # ... and label them with the respective list entries\n",
    "           xticklabels=classes, yticklabels=classes,\n",
    "           title=title,\n",
    "           ylabel='True label',\n",
    "           xlabel='Predicted label')\n",
    "\n",
    "    # Rotate the tick labels and set their alignment.\n",
    "    plt.setp(ax.get_xticklabels(), rotation=45, ha=\"right\",\n",
    "             rotation_mode=\"anchor\")\n",
    "\n",
    "    # Loop over data dimensions and create text annotations.\n",
    "    fmt = '.2f' if normalize else 'd'\n",
    "    thresh = cm.max() / 2.\n",
    "    for i in range(cm.shape[0]):\n",
    "        for j in range(cm.shape[1]):\n",
    "            ax.text(j, i, format(cm[i, j], fmt),\n",
    "                    ha=\"center\", va=\"center\",\n",
    "                    color=\"white\" if cm[i, j] > thresh else \"black\")\n",
    "    fig.tight_layout()\n",
    "    return ax"
   ]
  },
  {
   "cell_type": "code",
   "execution_count": 42,
   "id": "3507a34d",
   "metadata": {},
   "outputs": [
    {
     "name": "stdout",
     "output_type": "stream",
     "text": [
      "Confusion matrix, without normalization\n",
      "[[239 103]\n",
      " [ 35 599]]\n"
     ]
    },
    {
     "data": {
      "image/png": "[encoded data removed]",
      "text/plain": [
       "<Figure size 432x288 with 2 Axes>"
      ]
     },
     "metadata": {
      "needs_background": "light"
     },
     "output_type": "display_data"
    }
   ],
   "source": [
    "# set decimal places for numpy functions\n",
    "np.set_printoptions(precision=2)\n",
    "\n",
    "#define class names\n",
    "class_names=np.array(['r/Ethereum','r/Bitcoin', ])\n",
    "\n",
    "# generate predictions\n",
    "cvec_multinb_gs_predictions = cvec_multinb_gs_optimal.predict(X_test)\n",
    "\n",
    "# Plot non-normalized confusion matrix\n",
    "plot_confusion_matrix(y_test, cvec_multinb_gs_predictions , classes=class_names,\n",
    "                      title='Confusion matrix, without normalization',\n",
    "                     cmap='YlGnBu')\n",
    "\n",
    "\n",
    "plt.show();"
   ]
  },
  {
   "cell_type": "markdown",
   "id": "a98fb439",
   "metadata": {},
   "source": [
    "## 4. Conclusion\n",
    "\n",
    "The MVP chatbot should be piloted to a targeted group of users of our platform to determine if it is effective and productive in classifying and responding to text enquiries accurately. Building a custom model that combines NB model and SVM can deliver a more optimal performance. One potential future development is the expansion in the scope of our algorithm to include more cryptocurrencies by extending the existing binary classifiers to multi-class classifiers. Another potential development is use of sentiment analysis to augment our core text classification. With the productionization of our algorithm, it will be continuously trained through constant interaction with users. Given that a large proportion of our submissions contained non-text data such as links, video and image in their post, it can be useful to apply researach methods such as content analysis to apply and code these non-text documents and their associated texts. "
   ]
  }
 ],
 "metadata": {
  "kernelspec": {
   "display_name": "Python 3",
   "language": "python",
   "name": "python3"
  },
  "language_info": {
   "codemirror_mode": {
    "name": "ipython",
    "version": 3
   },
   "file_extension": ".py",
   "mimetype": "text/x-python",
   "name": "python",
   "nbconvert_exporter": "python",
   "pygments_lexer": "ipython3",
   "version": "3.8.8"
  }
 },
 "nbformat": 4,
 "nbformat_minor": 5
}
